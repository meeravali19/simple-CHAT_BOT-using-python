{
 "cells": [
  {
   "cell_type": "code",
   "execution_count": 1,
   "id": "d7787446",
   "metadata": {},
   "outputs": [
    {
     "name": "stdout",
     "output_type": "stream",
     "text": [
      "Chatbot: Hi, I'm a chatbot. How can I help you today?\n",
      "You: hi\n",
      "Chatbot: Hello!\n",
      "You: how are you\n",
      "Chatbot: I'm doing well, thanks for asking.\n",
      "You: bye\n",
      "Chatbot: Goodbye!\n"
     ]
    }
   ],
   "source": [
    "import random\n",
    "\n",
    "# Define a dictionary of responses\n",
    "responses = {\n",
    "    \"hi\": [\"Hello!\", \"Hi there!\", \"Hi!\"],\n",
    "    \"how are you\": [\"I'm doing well, thanks for asking.\", \"I'm fine, how about you?\"],\n",
    "    \"what's your name\": [\"My name is Chatbot.\", \"You can call me Chatbot.\"],\n",
    "    \"bye\": [\"Goodbye!\", \"See you later!\"],\n",
    "    \"default\": [\"Sorry, I didn't understand what you said.\", \"Can you please rephrase that?\", \"I'm not sure I understand.\"],\n",
    "}\n",
    "\n",
    "# Define a function to get a response from the dictionary\n",
    "def get_response(message):\n",
    "    message = message.lower()\n",
    "    if message in responses:\n",
    "        return random.choice(responses[message])\n",
    "    else:\n",
    "        return random.choice(responses[\"default\"])\n",
    "\n",
    "# Start the chatbot loop\n",
    "print(\"Chatbot: Hi, I'm a chatbot. How can I help you today?\")\n",
    "while True:\n",
    "    message = input(\"You: \")\n",
    "    if message.lower() == \"bye\":\n",
    "        print(\"Chatbot: Goodbye!\")\n",
    "        break\n",
    "    else:\n",
    "        response = get_response(message)\n",
    "        print(\"Chatbot:\", response)"
   ]
  },
  {
   "cell_type": "code",
   "execution_count": null,
   "id": "5d4b64d4",
   "metadata": {},
   "outputs": [],
   "source": []
  }
 ],
 "metadata": {
  "kernelspec": {
   "display_name": "Python 3 (ipykernel)",
   "language": "python",
   "name": "python3"
  },
  "language_info": {
   "codemirror_mode": {
    "name": "ipython",
    "version": 3
   },
   "file_extension": ".py",
   "mimetype": "text/x-python",
   "name": "python",
   "nbconvert_exporter": "python",
   "pygments_lexer": "ipython3",
   "version": "3.10.0"
  }
 },
 "nbformat": 4,
 "nbformat_minor": 5
}
